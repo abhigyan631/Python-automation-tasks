{
 "cells": [
  {
   "cell_type": "code",
   "execution_count": 1,
   "id": "8bdba7b6",
   "metadata": {},
   "outputs": [],
   "source": [
    "import pandas as pd"
   ]
  },
  {
   "cell_type": "markdown",
   "id": "bc2d4254",
   "metadata": {},
   "source": [
    "Referred from the link below\n",
    "\n",
    "https://www.youtube.com/watch?v=PXMJ6FS7llk&ab_channel=freeCodeCamp.org"
   ]
  },
  {
   "cell_type": "code",
   "execution_count": 2,
   "id": "99dab231",
   "metadata": {},
   "outputs": [],
   "source": [
    "Jack_Bauer = pd.read_html('https://en.wikipedia.org/wiki/24_(TV_series)')"
   ]
  },
  {
   "cell_type": "code",
   "execution_count": 3,
   "id": "a5dfee54",
   "metadata": {},
   "outputs": [
    {
     "data": {
      "text/plain": [
       "17"
      ]
     },
     "execution_count": 3,
     "metadata": {},
     "output_type": "execute_result"
    }
   ],
   "source": [
    "len(Jack_Bauer)"
   ]
  },
  {
   "cell_type": "code",
   "execution_count": 4,
   "id": "f220c22b",
   "metadata": {},
   "outputs": [
    {
     "data": {
      "text/plain": [
       "list"
      ]
     },
     "execution_count": 4,
     "metadata": {},
     "output_type": "execute_result"
    }
   ],
   "source": [
    "type(Jack_Bauer)"
   ]
  },
  {
   "cell_type": "code",
   "execution_count": 5,
   "id": "865c8f55",
   "metadata": {},
   "outputs": [
    {
     "data": {
      "text/html": [
       "<div>\n",
       "<style scoped>\n",
       "    .dataframe tbody tr th:only-of-type {\n",
       "        vertical-align: middle;\n",
       "    }\n",
       "\n",
       "    .dataframe tbody tr th {\n",
       "        vertical-align: top;\n",
       "    }\n",
       "\n",
       "    .dataframe thead tr th {\n",
       "        text-align: left;\n",
       "    }\n",
       "</style>\n",
       "<table border=\"1\" class=\"dataframe\">\n",
       "  <thead>\n",
       "    <tr>\n",
       "      <th></th>\n",
       "      <th colspan=\"2\" halign=\"left\">Season</th>\n",
       "      <th colspan=\"2\" halign=\"left\">Critical response</th>\n",
       "    </tr>\n",
       "    <tr>\n",
       "      <th></th>\n",
       "      <th>Season</th>\n",
       "      <th>Season.1</th>\n",
       "      <th>Rotten Tomatoes[85]</th>\n",
       "      <th>Metacritic[86]</th>\n",
       "    </tr>\n",
       "  </thead>\n",
       "  <tbody>\n",
       "    <tr>\n",
       "      <th>0</th>\n",
       "      <td>NaN</td>\n",
       "      <td>1</td>\n",
       "      <td>95% (20 reviews)</td>\n",
       "      <td>88 (27 reviews)</td>\n",
       "    </tr>\n",
       "    <tr>\n",
       "      <th>1</th>\n",
       "      <td>NaN</td>\n",
       "      <td>2</td>\n",
       "      <td>94% (17 reviews)</td>\n",
       "      <td>83 (23 reviews)</td>\n",
       "    </tr>\n",
       "    <tr>\n",
       "      <th>2</th>\n",
       "      <td>NaN</td>\n",
       "      <td>3</td>\n",
       "      <td>93% (14 reviews)</td>\n",
       "      <td>72 (14 reviews)</td>\n",
       "    </tr>\n",
       "    <tr>\n",
       "      <th>3</th>\n",
       "      <td>NaN</td>\n",
       "      <td>4</td>\n",
       "      <td>95% (20 reviews)</td>\n",
       "      <td>79 (19 reviews)</td>\n",
       "    </tr>\n",
       "    <tr>\n",
       "      <th>4</th>\n",
       "      <td>NaN</td>\n",
       "      <td>5</td>\n",
       "      <td>100% (22 reviews)</td>\n",
       "      <td>89 (21 reviews)</td>\n",
       "    </tr>\n",
       "    <tr>\n",
       "      <th>5</th>\n",
       "      <td>NaN</td>\n",
       "      <td>6</td>\n",
       "      <td>73% (30 reviews)</td>\n",
       "      <td>79 (23 reviews)</td>\n",
       "    </tr>\n",
       "    <tr>\n",
       "      <th>6</th>\n",
       "      <td>NaN</td>\n",
       "      <td>Redemption</td>\n",
       "      <td>80% (20 reviews)</td>\n",
       "      <td>—</td>\n",
       "    </tr>\n",
       "    <tr>\n",
       "      <th>7</th>\n",
       "      <td>NaN</td>\n",
       "      <td>7</td>\n",
       "      <td>76% (33 reviews)</td>\n",
       "      <td>72 (21 reviews)</td>\n",
       "    </tr>\n",
       "    <tr>\n",
       "      <th>8</th>\n",
       "      <td>NaN</td>\n",
       "      <td>8</td>\n",
       "      <td>75% (40 reviews)</td>\n",
       "      <td>67 (19 reviews)</td>\n",
       "    </tr>\n",
       "    <tr>\n",
       "      <th>9</th>\n",
       "      <td>NaN</td>\n",
       "      <td>Live Another Day</td>\n",
       "      <td>81% (54 reviews)</td>\n",
       "      <td>70 (40 reviews)</td>\n",
       "    </tr>\n",
       "  </tbody>\n",
       "</table>\n",
       "</div>"
      ],
      "text/plain": [
       "  Season                     Critical response                 \n",
       "  Season          Season.1 Rotten Tomatoes[85]   Metacritic[86]\n",
       "0    NaN                 1    95% (20 reviews)  88 (27 reviews)\n",
       "1    NaN                 2    94% (17 reviews)  83 (23 reviews)\n",
       "2    NaN                 3    93% (14 reviews)  72 (14 reviews)\n",
       "3    NaN                 4    95% (20 reviews)  79 (19 reviews)\n",
       "4    NaN                 5   100% (22 reviews)  89 (21 reviews)\n",
       "5    NaN                 6    73% (30 reviews)  79 (23 reviews)\n",
       "6    NaN        Redemption    80% (20 reviews)                —\n",
       "7    NaN                 7    76% (33 reviews)  72 (21 reviews)\n",
       "8    NaN                 8    75% (40 reviews)  67 (19 reviews)\n",
       "9    NaN  Live Another Day    81% (54 reviews)  70 (40 reviews)"
      ]
     },
     "execution_count": 5,
     "metadata": {},
     "output_type": "execute_result"
    }
   ],
   "source": [
    "Jack_Bauer[3]"
   ]
  },
  {
   "cell_type": "markdown",
   "id": "4215aac4",
   "metadata": {},
   "source": [
    "# Read a .csv file from a url with pandas"
   ]
  },
  {
   "cell_type": "code",
   "execution_count": 6,
   "id": "cc6bdb41",
   "metadata": {},
   "outputs": [],
   "source": [
    "#reading 1 csv file from the website\n",
    "\n",
    "# https://stats.govt.nz/large-datasets/csv-files-for-download/\n",
    "\n",
    "df_ghgas_emis= pd.read_csv(\"https://stats.govt.nz/assets/Uploads/Greenhouse-gas-emissions-by-region-industry-and-household/Greenhouse-gas-emissions-by-region-industry-and-household-Year-ended-2021/Download-data/greenhouse-gas-emissions-by-region-industry-and-household-year-ended-2021-csv.csv\")"
   ]
  },
  {
   "cell_type": "code",
   "execution_count": 7,
   "id": "55a2ac88",
   "metadata": {},
   "outputs": [
    {
     "data": {
      "text/html": [
       "<div>\n",
       "<style scoped>\n",
       "    .dataframe tbody tr th:only-of-type {\n",
       "        vertical-align: middle;\n",
       "    }\n",
       "\n",
       "    .dataframe tbody tr th {\n",
       "        vertical-align: top;\n",
       "    }\n",
       "\n",
       "    .dataframe thead th {\n",
       "        text-align: right;\n",
       "    }\n",
       "</style>\n",
       "<table border=\"1\" class=\"dataframe\">\n",
       "  <thead>\n",
       "    <tr style=\"text-align: right;\">\n",
       "      <th></th>\n",
       "      <th>region</th>\n",
       "      <th>anzsic_descriptor</th>\n",
       "      <th>anzsic_descriptor2</th>\n",
       "      <th>category</th>\n",
       "      <th>gas</th>\n",
       "      <th>units</th>\n",
       "      <th>magnitude</th>\n",
       "      <th>year</th>\n",
       "      <th>data_val</th>\n",
       "    </tr>\n",
       "  </thead>\n",
       "  <tbody>\n",
       "    <tr>\n",
       "      <th>0</th>\n",
       "      <td>Auckland</td>\n",
       "      <td>Forestry and logging, fishing, and agricultura...</td>\n",
       "      <td>Total</td>\n",
       "      <td>Total</td>\n",
       "      <td>Carbon dioxide equivalents</td>\n",
       "      <td>Kilotonnes</td>\n",
       "      <td>Carbon dioxide equivalents</td>\n",
       "      <td>2007</td>\n",
       "      <td>39.43</td>\n",
       "    </tr>\n",
       "    <tr>\n",
       "      <th>1</th>\n",
       "      <td>Auckland</td>\n",
       "      <td>Forestry and logging, fishing, and agricultura...</td>\n",
       "      <td>Total</td>\n",
       "      <td>Total</td>\n",
       "      <td>Carbon dioxide equivalents</td>\n",
       "      <td>Kilotonnes</td>\n",
       "      <td>Carbon dioxide equivalents</td>\n",
       "      <td>2008</td>\n",
       "      <td>40.36</td>\n",
       "    </tr>\n",
       "    <tr>\n",
       "      <th>2</th>\n",
       "      <td>Auckland</td>\n",
       "      <td>Forestry and logging, fishing, and agricultura...</td>\n",
       "      <td>Total</td>\n",
       "      <td>Total</td>\n",
       "      <td>Carbon dioxide equivalents</td>\n",
       "      <td>Kilotonnes</td>\n",
       "      <td>Carbon dioxide equivalents</td>\n",
       "      <td>2009</td>\n",
       "      <td>30.18</td>\n",
       "    </tr>\n",
       "    <tr>\n",
       "      <th>3</th>\n",
       "      <td>Auckland</td>\n",
       "      <td>Forestry and logging, fishing, and agricultura...</td>\n",
       "      <td>Total</td>\n",
       "      <td>Total</td>\n",
       "      <td>Carbon dioxide equivalents</td>\n",
       "      <td>Kilotonnes</td>\n",
       "      <td>Carbon dioxide equivalents</td>\n",
       "      <td>2010</td>\n",
       "      <td>25.66</td>\n",
       "    </tr>\n",
       "    <tr>\n",
       "      <th>4</th>\n",
       "      <td>Auckland</td>\n",
       "      <td>Forestry and logging, fishing, and agricultura...</td>\n",
       "      <td>Total</td>\n",
       "      <td>Total</td>\n",
       "      <td>Carbon dioxide equivalents</td>\n",
       "      <td>Kilotonnes</td>\n",
       "      <td>Carbon dioxide equivalents</td>\n",
       "      <td>2011</td>\n",
       "      <td>42.59</td>\n",
       "    </tr>\n",
       "  </tbody>\n",
       "</table>\n",
       "</div>"
      ],
      "text/plain": [
       "     region                                  anzsic_descriptor  \\\n",
       "0  Auckland  Forestry and logging, fishing, and agricultura...   \n",
       "1  Auckland  Forestry and logging, fishing, and agricultura...   \n",
       "2  Auckland  Forestry and logging, fishing, and agricultura...   \n",
       "3  Auckland  Forestry and logging, fishing, and agricultura...   \n",
       "4  Auckland  Forestry and logging, fishing, and agricultura...   \n",
       "\n",
       "  anzsic_descriptor2 category                         gas       units  \\\n",
       "0              Total    Total  Carbon dioxide equivalents  Kilotonnes   \n",
       "1              Total    Total  Carbon dioxide equivalents  Kilotonnes   \n",
       "2              Total    Total  Carbon dioxide equivalents  Kilotonnes   \n",
       "3              Total    Total  Carbon dioxide equivalents  Kilotonnes   \n",
       "4              Total    Total  Carbon dioxide equivalents  Kilotonnes   \n",
       "\n",
       "                    magnitude  year  data_val  \n",
       "0  Carbon dioxide equivalents  2007     39.43  \n",
       "1  Carbon dioxide equivalents  2008     40.36  \n",
       "2  Carbon dioxide equivalents  2009     30.18  \n",
       "3  Carbon dioxide equivalents  2010     25.66  \n",
       "4  Carbon dioxide equivalents  2011     42.59  "
      ]
     },
     "execution_count": 7,
     "metadata": {},
     "output_type": "execute_result"
    }
   ],
   "source": [
    "df_ghgas_emis.head()"
   ]
  },
  {
   "cell_type": "code",
   "execution_count": 8,
   "id": "af4b2507",
   "metadata": {},
   "outputs": [],
   "source": [
    "#rename columns\n",
    "df_ghgas_emis.rename(columns= {\"units\": \"Emission_unit\",\"region\": \"Region\"}, inplace = True)"
   ]
  },
  {
   "cell_type": "code",
   "execution_count": 9,
   "id": "78a1fb35",
   "metadata": {},
   "outputs": [
    {
     "data": {
      "text/html": [
       "<div>\n",
       "<style scoped>\n",
       "    .dataframe tbody tr th:only-of-type {\n",
       "        vertical-align: middle;\n",
       "    }\n",
       "\n",
       "    .dataframe tbody tr th {\n",
       "        vertical-align: top;\n",
       "    }\n",
       "\n",
       "    .dataframe thead th {\n",
       "        text-align: right;\n",
       "    }\n",
       "</style>\n",
       "<table border=\"1\" class=\"dataframe\">\n",
       "  <thead>\n",
       "    <tr style=\"text-align: right;\">\n",
       "      <th></th>\n",
       "      <th>Region</th>\n",
       "      <th>anzsic_descriptor</th>\n",
       "      <th>anzsic_descriptor2</th>\n",
       "      <th>category</th>\n",
       "      <th>gas</th>\n",
       "      <th>Emission_unit</th>\n",
       "      <th>magnitude</th>\n",
       "      <th>year</th>\n",
       "      <th>data_val</th>\n",
       "    </tr>\n",
       "  </thead>\n",
       "  <tbody>\n",
       "    <tr>\n",
       "      <th>0</th>\n",
       "      <td>Auckland</td>\n",
       "      <td>Forestry and logging, fishing, and agricultura...</td>\n",
       "      <td>Total</td>\n",
       "      <td>Total</td>\n",
       "      <td>Carbon dioxide equivalents</td>\n",
       "      <td>Kilotonnes</td>\n",
       "      <td>Carbon dioxide equivalents</td>\n",
       "      <td>2007</td>\n",
       "      <td>39.43</td>\n",
       "    </tr>\n",
       "    <tr>\n",
       "      <th>1</th>\n",
       "      <td>Auckland</td>\n",
       "      <td>Forestry and logging, fishing, and agricultura...</td>\n",
       "      <td>Total</td>\n",
       "      <td>Total</td>\n",
       "      <td>Carbon dioxide equivalents</td>\n",
       "      <td>Kilotonnes</td>\n",
       "      <td>Carbon dioxide equivalents</td>\n",
       "      <td>2008</td>\n",
       "      <td>40.36</td>\n",
       "    </tr>\n",
       "    <tr>\n",
       "      <th>2</th>\n",
       "      <td>Auckland</td>\n",
       "      <td>Forestry and logging, fishing, and agricultura...</td>\n",
       "      <td>Total</td>\n",
       "      <td>Total</td>\n",
       "      <td>Carbon dioxide equivalents</td>\n",
       "      <td>Kilotonnes</td>\n",
       "      <td>Carbon dioxide equivalents</td>\n",
       "      <td>2009</td>\n",
       "      <td>30.18</td>\n",
       "    </tr>\n",
       "    <tr>\n",
       "      <th>3</th>\n",
       "      <td>Auckland</td>\n",
       "      <td>Forestry and logging, fishing, and agricultura...</td>\n",
       "      <td>Total</td>\n",
       "      <td>Total</td>\n",
       "      <td>Carbon dioxide equivalents</td>\n",
       "      <td>Kilotonnes</td>\n",
       "      <td>Carbon dioxide equivalents</td>\n",
       "      <td>2010</td>\n",
       "      <td>25.66</td>\n",
       "    </tr>\n",
       "    <tr>\n",
       "      <th>4</th>\n",
       "      <td>Auckland</td>\n",
       "      <td>Forestry and logging, fishing, and agricultura...</td>\n",
       "      <td>Total</td>\n",
       "      <td>Total</td>\n",
       "      <td>Carbon dioxide equivalents</td>\n",
       "      <td>Kilotonnes</td>\n",
       "      <td>Carbon dioxide equivalents</td>\n",
       "      <td>2011</td>\n",
       "      <td>42.59</td>\n",
       "    </tr>\n",
       "  </tbody>\n",
       "</table>\n",
       "</div>"
      ],
      "text/plain": [
       "     Region                                  anzsic_descriptor  \\\n",
       "0  Auckland  Forestry and logging, fishing, and agricultura...   \n",
       "1  Auckland  Forestry and logging, fishing, and agricultura...   \n",
       "2  Auckland  Forestry and logging, fishing, and agricultura...   \n",
       "3  Auckland  Forestry and logging, fishing, and agricultura...   \n",
       "4  Auckland  Forestry and logging, fishing, and agricultura...   \n",
       "\n",
       "  anzsic_descriptor2 category                         gas Emission_unit  \\\n",
       "0              Total    Total  Carbon dioxide equivalents    Kilotonnes   \n",
       "1              Total    Total  Carbon dioxide equivalents    Kilotonnes   \n",
       "2              Total    Total  Carbon dioxide equivalents    Kilotonnes   \n",
       "3              Total    Total  Carbon dioxide equivalents    Kilotonnes   \n",
       "4              Total    Total  Carbon dioxide equivalents    Kilotonnes   \n",
       "\n",
       "                    magnitude  year  data_val  \n",
       "0  Carbon dioxide equivalents  2007     39.43  \n",
       "1  Carbon dioxide equivalents  2008     40.36  \n",
       "2  Carbon dioxide equivalents  2009     30.18  \n",
       "3  Carbon dioxide equivalents  2010     25.66  \n",
       "4  Carbon dioxide equivalents  2011     42.59  "
      ]
     },
     "execution_count": 9,
     "metadata": {},
     "output_type": "execute_result"
    }
   ],
   "source": [
    "df_ghgas_emis.head()"
   ]
  },
  {
   "cell_type": "code",
   "execution_count": 16,
   "id": "c1a0d23c",
   "metadata": {},
   "outputs": [],
   "source": []
  },
  {
   "cell_type": "markdown",
   "id": "3932847f",
   "metadata": {},
   "source": [
    "# Table Extraction - Extract Tables from PDFs"
   ]
  },
  {
   "cell_type": "code",
   "execution_count": 10,
   "id": "e66ffb34",
   "metadata": {},
   "outputs": [
    {
     "name": "stdout",
     "output_type": "stream",
     "text": [
      "Collecting camelot-py\n",
      "  Downloading camelot_py-0.10.1-py3-none-any.whl (40 kB)\n",
      "Requirement already satisfied: numpy>=1.13.3 in d:\\programfiles\\anaconda3\\lib\\site-packages (from camelot-py) (1.21.5)\n",
      "Requirement already satisfied: tabulate>=0.8.9 in d:\\programfiles\\anaconda3\\lib\\site-packages (from camelot-py) (0.8.9)\n",
      "Requirement already satisfied: chardet>=3.0.4 in d:\\programfiles\\anaconda3\\lib\\site-packages (from camelot-py) (4.0.0)\n",
      "Requirement already satisfied: openpyxl>=2.5.8 in d:\\programfiles\\anaconda3\\lib\\site-packages (from camelot-py) (3.0.9)\n",
      "Requirement already satisfied: pandas>=0.23.4 in d:\\programfiles\\anaconda3\\lib\\site-packages (from camelot-py) (1.4.2)\n",
      "Collecting pdfminer.six>=20200726\n",
      "  Downloading pdfminer.six-20220524-py3-none-any.whl (5.6 MB)\n",
      "Requirement already satisfied: click>=6.7 in d:\\programfiles\\anaconda3\\lib\\site-packages (from camelot-py) (8.0.4)\n",
      "Collecting PyPDF2>=1.26.0\n",
      "  Downloading PyPDF2-2.11.0-py3-none-any.whl (220 kB)\n",
      "Requirement already satisfied: colorama in d:\\programfiles\\anaconda3\\lib\\site-packages (from click>=6.7->camelot-py) (0.4.4)\n",
      "Requirement already satisfied: et-xmlfile in d:\\programfiles\\anaconda3\\lib\\site-packages (from openpyxl>=2.5.8->camelot-py) (1.1.0)\n",
      "Requirement already satisfied: python-dateutil>=2.8.1 in d:\\programfiles\\anaconda3\\lib\\site-packages (from pandas>=0.23.4->camelot-py) (2.8.2)\n",
      "Requirement already satisfied: pytz>=2020.1 in d:\\programfiles\\anaconda3\\lib\\site-packages (from pandas>=0.23.4->camelot-py) (2021.3)\n",
      "Requirement already satisfied: charset-normalizer>=2.0.0 in d:\\programfiles\\anaconda3\\lib\\site-packages (from pdfminer.six>=20200726->camelot-py) (2.0.4)\n",
      "Collecting cryptography>=36.0.0\n",
      "  Downloading cryptography-38.0.1-cp36-abi3-win_amd64.whl (2.4 MB)\n",
      "Requirement already satisfied: cffi>=1.12 in d:\\programfiles\\anaconda3\\lib\\site-packages (from cryptography>=36.0.0->pdfminer.six>=20200726->camelot-py) (1.15.0)\n",
      "Requirement already satisfied: pycparser in d:\\programfiles\\anaconda3\\lib\\site-packages (from cffi>=1.12->cryptography>=36.0.0->pdfminer.six>=20200726->camelot-py) (2.21)\n",
      "Requirement already satisfied: typing-extensions>=3.10.0.0 in d:\\programfiles\\anaconda3\\lib\\site-packages (from PyPDF2>=1.26.0->camelot-py) (4.1.1)\n",
      "Requirement already satisfied: six>=1.5 in d:\\programfiles\\anaconda3\\lib\\site-packages (from python-dateutil>=2.8.1->pandas>=0.23.4->camelot-py) (1.16.0)\n",
      "Installing collected packages: cryptography, PyPDF2, pdfminer.six, camelot-py\n",
      "  Attempting uninstall: cryptography\n",
      "    Found existing installation: cryptography 3.4.8\n",
      "    Uninstalling cryptography-3.4.8:\n",
      "      Successfully uninstalled cryptography-3.4.8\n",
      "Successfully installed PyPDF2-2.11.0 camelot-py-0.10.1 cryptography-38.0.1 pdfminer.six-20220524\n"
     ]
    }
   ],
   "source": [
    "!pip3 install camelot-py"
   ]
  },
  {
   "cell_type": "code",
   "execution_count": 12,
   "id": "81e02921",
   "metadata": {},
   "outputs": [
    {
     "name": "stdout",
     "output_type": "stream",
     "text": [
      "Requirement already satisfied: tk in d:\\programfiles\\anaconda3\\lib\\site-packages (0.1.0)\n"
     ]
    }
   ],
   "source": [
    "!pip3 install tk"
   ]
  },
  {
   "cell_type": "code",
   "execution_count": 13,
   "id": "449038c7",
   "metadata": {},
   "outputs": [
    {
     "name": "stdout",
     "output_type": "stream",
     "text": [
      "Collecting ghostscript\n",
      "  Downloading ghostscript-0.7-py2.py3-none-any.whl (25 kB)\n",
      "Requirement already satisfied: setuptools>=38.6.0 in d:\\programfiles\\anaconda3\\lib\\site-packages (from ghostscript) (61.2.0)\n",
      "Installing collected packages: ghostscript\n",
      "Successfully installed ghostscript-0.7\n"
     ]
    }
   ],
   "source": [
    "!pip3 install ghostscript"
   ]
  },
  {
   "cell_type": "code",
   "execution_count": 16,
   "id": "20d5db78",
   "metadata": {},
   "outputs": [
    {
     "name": "stdout",
     "output_type": "stream",
     "text": [
      "Collecting opencv-python\n",
      "  Downloading opencv_python-4.6.0.66-cp36-abi3-win_amd64.whl (35.6 MB)\n",
      "Requirement already satisfied: numpy>=1.17.3 in d:\\programfiles\\anaconda3\\lib\\site-packages (from opencv-python) (1.21.5)\n",
      "Installing collected packages: opencv-python\n",
      "Successfully installed opencv-python-4.6.0.66\n"
     ]
    }
   ],
   "source": [
    "!pip3 install opencv-python"
   ]
  },
  {
   "cell_type": "code",
   "execution_count": 10,
   "id": "cc35fbb2",
   "metadata": {},
   "outputs": [],
   "source": [
    "import camelot"
   ]
  },
  {
   "cell_type": "code",
   "execution_count": null,
   "id": "6bbd6b6a",
   "metadata": {},
   "outputs": [],
   "source": []
  },
  {
   "cell_type": "code",
   "execution_count": 17,
   "id": "2812d72d",
   "metadata": {},
   "outputs": [],
   "source": [
    "tables = camelot.read_pdf('https://sedl.org/afterschool/toolkits/science/pdf/ast_sci_data_tables_sample.pdf', pages = 'all')"
   ]
  },
  {
   "cell_type": "code",
   "execution_count": 18,
   "id": "ff767490",
   "metadata": {},
   "outputs": [
    {
     "name": "stdout",
     "output_type": "stream",
     "text": [
      "<TableList n=3>\n"
     ]
    }
   ],
   "source": [
    "print(tables)"
   ]
  },
  {
   "cell_type": "code",
   "execution_count": 19,
   "id": "82d03422",
   "metadata": {},
   "outputs": [
    {
     "name": "stdout",
     "output_type": "stream",
     "text": [
      "<Table shape=(5, 2)>\n"
     ]
    }
   ],
   "source": [
    "print(tables[0])"
   ]
  },
  {
   "cell_type": "code",
   "execution_count": 20,
   "id": "4e4f7782",
   "metadata": {},
   "outputs": [],
   "source": [
    "tables.export('foo.csv', f = 'csv', compress = True)\n",
    "tables[0].to_csv('foo.csv')"
   ]
  },
  {
   "cell_type": "markdown",
   "id": "cfc255f3",
   "metadata": {},
   "source": [
    "# Web Automation & Web Scraping - HTML Basics - Tags and Elements"
   ]
  },
  {
   "cell_type": "code",
   "execution_count": 21,
   "id": "d576f9ee",
   "metadata": {},
   "outputs": [
    {
     "name": "stdout",
     "output_type": "stream",
     "text": [
      "Collecting selenium\n",
      "  Downloading selenium-4.4.3-py3-none-any.whl (985 kB)\n",
      "Requirement already satisfied: urllib3[socks]~=1.26 in d:\\programfiles\\anaconda3\\lib\\site-packages (from selenium) (1.26.9)\n",
      "Collecting trio-websocket~=0.9\n",
      "  Downloading trio_websocket-0.9.2-py3-none-any.whl (16 kB)\n",
      "Collecting trio~=0.17\n",
      "  Downloading trio-0.21.0-py3-none-any.whl (358 kB)\n",
      "Requirement already satisfied: certifi>=2021.10.8 in d:\\programfiles\\anaconda3\\lib\\site-packages (from selenium) (2021.10.8)\n",
      "Collecting outcome\n",
      "  Downloading outcome-1.2.0-py2.py3-none-any.whl (9.7 kB)\n",
      "Requirement already satisfied: sniffio in d:\\programfiles\\anaconda3\\lib\\site-packages (from trio~=0.17->selenium) (1.2.0)\n",
      "Requirement already satisfied: sortedcontainers in d:\\programfiles\\anaconda3\\lib\\site-packages (from trio~=0.17->selenium) (2.4.0)\n",
      "Requirement already satisfied: cffi>=1.14 in d:\\programfiles\\anaconda3\\lib\\site-packages (from trio~=0.17->selenium) (1.15.0)\n",
      "Requirement already satisfied: idna in d:\\programfiles\\anaconda3\\lib\\site-packages (from trio~=0.17->selenium) (3.3)\n",
      "Collecting async-generator>=1.9\n",
      "  Using cached async_generator-1.10-py3-none-any.whl (18 kB)\n",
      "Requirement already satisfied: attrs>=19.2.0 in d:\\programfiles\\anaconda3\\lib\\site-packages (from trio~=0.17->selenium) (21.4.0)\n",
      "Requirement already satisfied: pycparser in d:\\programfiles\\anaconda3\\lib\\site-packages (from cffi>=1.14->trio~=0.17->selenium) (2.21)\n",
      "Collecting wsproto>=0.14\n",
      "  Downloading wsproto-1.2.0-py3-none-any.whl (24 kB)\n",
      "Requirement already satisfied: PySocks!=1.5.7,<2.0,>=1.5.6 in d:\\programfiles\\anaconda3\\lib\\site-packages (from urllib3[socks]~=1.26->selenium) (1.7.1)\n",
      "Collecting h11<1,>=0.9.0\n",
      "  Downloading h11-0.14.0-py3-none-any.whl (58 kB)\n",
      "Installing collected packages: outcome, h11, async-generator, wsproto, trio, trio-websocket, selenium\n",
      "Successfully installed async-generator-1.10 h11-0.14.0 outcome-1.2.0 selenium-4.4.3 trio-0.21.0 trio-websocket-0.9.2 wsproto-1.2.0\n"
     ]
    }
   ],
   "source": [
    "!pip3 install selenium"
   ]
  },
  {
   "cell_type": "code",
   "execution_count": 2,
   "id": "687fe789",
   "metadata": {},
   "outputs": [],
   "source": [
    "from selenium import webdriver"
   ]
  },
  {
   "cell_type": "code",
   "execution_count": 3,
   "id": "e1c16b8c",
   "metadata": {},
   "outputs": [],
   "source": [
    "from selenium.webdriver.chrome.service import Service"
   ]
  },
  {
   "cell_type": "code",
   "execution_count": 4,
   "id": "8ac10cd0",
   "metadata": {},
   "outputs": [],
   "source": [
    "from selenium.webdriver.chrome.options import Options"
   ]
  },
  {
   "cell_type": "code",
   "execution_count": 24,
   "id": "84157997",
   "metadata": {},
   "outputs": [],
   "source": [
    "from datetime import datetime\n",
    "import os\n",
    "import sys"
   ]
  },
  {
   "cell_type": "code",
   "execution_count": 6,
   "id": "99fb72ce",
   "metadata": {},
   "outputs": [],
   "source": [
    "application_path = os.path.dirname(sys.executable)"
   ]
  },
  {
   "cell_type": "code",
   "execution_count": null,
   "id": "2e4a8891",
   "metadata": {},
   "outputs": [],
   "source": [
    "now = datetime.now()\n",
    "#MMDDYYYY\n",
    "month_day_year = now.strftime('%m%d%Y')"
   ]
  },
  {
   "cell_type": "code",
   "execution_count": null,
   "id": "0fa0cebd",
   "metadata": {},
   "outputs": [],
   "source": []
  },
  {
   "cell_type": "code",
   "execution_count": null,
   "id": "4b52e5ad",
   "metadata": {},
   "outputs": [],
   "source": []
  },
  {
   "cell_type": "code",
   "execution_count": 16,
   "id": "829bf5ee",
   "metadata": {},
   "outputs": [],
   "source": [
    "website = 'https://www.thesun.co.uk/sport/football/'\n",
    "path = \"D:/APPLIED_AI_COURSE/Web scraping and automation using python/Chromedriver/chromedriver.exe\""
   ]
  },
  {
   "cell_type": "code",
   "execution_count": 17,
   "id": "de397182",
   "metadata": {},
   "outputs": [],
   "source": [
    "#headless mode (in this case the website does not pop up while the scraping is done, \n",
    "#everything happens in the background)\n",
    "\n",
    "options = Options()\n",
    "options.headless = True\n",
    "service = Service(executable_path = path)\n",
    "driver = webdriver.Chrome(service = service, options = options)\n",
    "driver.get(website)"
   ]
  },
  {
   "cell_type": "code",
   "execution_count": null,
   "id": "419d1171",
   "metadata": {},
   "outputs": [],
   "source": [
    "# xpath = //div[@class=\"teaser__copy-container\"]\n",
    "\n",
    "#//div[@class=\"teaser__copy-container\"]/a/h2 "
   ]
  },
  {
   "cell_type": "markdown",
   "id": "e211a452",
   "metadata": {},
   "source": [
    "- To find the xpath, go to the website, click inspect, then click top left arrow, then go to any article,\n",
    "- click it and the main class will be highlighted, \n",
    "- use ctrl+F and then write //div[@class=\"\"], now check to see the class element (better to fix on text element classes e.g. \"teaser__copy-container\" in this case), so that all the texts from the website can be accessed.\n",
    "\n",
    "Now this is only for news websites, it may change for other website types."
   ]
  },
  {
   "cell_type": "code",
   "execution_count": 18,
   "id": "926584a0",
   "metadata": {},
   "outputs": [],
   "source": [
    "containers = driver.find_elements(by=\"xpath\", value = '//div[@class=\"teaser__copy-container\"]')"
   ]
  },
  {
   "cell_type": "code",
   "execution_count": 19,
   "id": "3dbac647",
   "metadata": {},
   "outputs": [],
   "source": [
    "titles = []\n",
    "subtitles = []\n",
    "links = []"
   ]
  },
  {
   "cell_type": "code",
   "execution_count": 20,
   "id": "c65517ee",
   "metadata": {},
   "outputs": [],
   "source": [
    "for container in containers:\n",
    "    title = container.find_element(by=\"xpath\", value = './a/h2').text\n",
    "    subtitle = container.find_element(by=\"xpath\", value = './a/p').text #subtitle element\n",
    "    link = container.find_element(by=\"xpath\", value = './a').get_attribute(\"href\")\n",
    "    titles.append(title)\n",
    "    subtitles.append(subtitle)\n",
    "    links.append(link)"
   ]
  },
  {
   "cell_type": "code",
   "execution_count": 21,
   "id": "cd9eee55",
   "metadata": {},
   "outputs": [],
   "source": [
    "my_dict={'title':titles, 'subtitle':subtitles, 'link': links}\n",
    "\n",
    "df_headlines = pd.DataFrame(my_dict)\n"
   ]
  },
  {
   "cell_type": "code",
   "execution_count": null,
   "id": "fa705b63",
   "metadata": {},
   "outputs": [],
   "source": [
    "file_name = f'headline-{month_day_year}.csv'\n",
    "final_path = os.path.join(application_path, file_name)"
   ]
  },
  {
   "cell_type": "code",
   "execution_count": null,
   "id": "e70c1e47",
   "metadata": {},
   "outputs": [],
   "source": []
  },
  {
   "cell_type": "code",
   "execution_count": null,
   "id": "7ee3d1b8",
   "metadata": {},
   "outputs": [],
   "source": [
    "df_headlines.to_csv(final_path)"
   ]
  },
  {
   "cell_type": "code",
   "execution_count": 22,
   "id": "c00f08b3",
   "metadata": {},
   "outputs": [],
   "source": [
    "driver.quit()"
   ]
  },
  {
   "cell_type": "code",
   "execution_count": 7,
   "id": "d6dceb5a",
   "metadata": {},
   "outputs": [
    {
     "name": "stdout",
     "output_type": "stream",
     "text": [
      "Collecting pyinstaller\n",
      "  Downloading pyinstaller-5.4.1-py3-none-win_amd64.whl (1.2 MB)\n",
      "Collecting pyinstaller-hooks-contrib>=2021.4\n",
      "  Downloading pyinstaller_hooks_contrib-2022.10-py2.py3-none-any.whl (244 kB)\n",
      "Requirement already satisfied: setuptools in d:\\programfiles\\anaconda3\\lib\\site-packages (from pyinstaller) (61.2.0)\n",
      "Collecting altgraph\n",
      "  Downloading altgraph-0.17.3-py2.py3-none-any.whl (21 kB)\n",
      "Requirement already satisfied: pywin32-ctypes>=0.2.0 in d:\\programfiles\\anaconda3\\lib\\site-packages (from pyinstaller) (0.2.0)\n",
      "Collecting pefile>=2022.5.30\n",
      "  Downloading pefile-2022.5.30.tar.gz (72 kB)\n",
      "Requirement already satisfied: future in d:\\programfiles\\anaconda3\\lib\\site-packages (from pefile>=2022.5.30->pyinstaller) (0.18.2)\n",
      "Building wheels for collected packages: pefile\n",
      "  Building wheel for pefile (setup.py): started\n",
      "  Building wheel for pefile (setup.py): finished with status 'done'\n",
      "  Created wheel for pefile: filename=pefile-2022.5.30-py3-none-any.whl size=69376 sha256=fc816480c20000ed39ac1558a261043d3aade172161a804dc4c50f5a63779eb3\n",
      "  Stored in directory: c:\\users\\abhirockzzz\\appdata\\local\\pip\\cache\\wheels\\f1\\fe\\01\\5536332fc49e010786c52886ac14f72073dd65fed3c3d8945c\n",
      "Successfully built pefile\n",
      "Installing collected packages: pyinstaller-hooks-contrib, pefile, altgraph, pyinstaller\n",
      "Successfully installed altgraph-0.17.3 pefile-2022.5.30 pyinstaller-5.4.1 pyinstaller-hooks-contrib-2022.10\n"
     ]
    }
   ],
   "source": [
    "!pip3 install pyinstaller"
   ]
  },
  {
   "cell_type": "code",
   "execution_count": 8,
   "id": "601d3508",
   "metadata": {},
   "outputs": [
    {
     "name": "stderr",
     "output_type": "stream",
     "text": [
      "usage: pyinstaller [-h] [-v] [-D] [-F] [--specpath DIR] [-n NAME]\n",
      "                   [--add-data <SRC;DEST or SRC:DEST>]\n",
      "                   [--add-binary <SRC;DEST or SRC:DEST>] [-p DIR]\n",
      "                   [--hidden-import MODULENAME]\n",
      "                   [--collect-submodules MODULENAME]\n",
      "                   [--collect-data MODULENAME] [--collect-binaries MODULENAME]\n",
      "                   [--collect-all MODULENAME] [--copy-metadata PACKAGENAME]\n",
      "                   [--recursive-copy-metadata PACKAGENAME]\n",
      "                   [--additional-hooks-dir HOOKSPATH]\n",
      "                   [--runtime-hook RUNTIME_HOOKS] [--exclude-module EXCLUDES]\n",
      "                   [--key KEY] [--splash IMAGE_FILE]\n",
      "                   [-d {all,imports,bootloader,noarchive}]\n",
      "                   [--python-option PYTHON_OPTION] [-s] [--noupx]\n",
      "                   [--upx-exclude FILE] [-c] [-w]\n",
      "                   [-i <FILE.ico or FILE.exe,ID or FILE.icns or Image or \"NONE\">]\n",
      "                   [--disable-windowed-traceback] [--version-file FILE]\n",
      "                   [-m <FILE or XML>] [--no-embed-manifest] [-r RESOURCE]\n",
      "                   [--uac-admin] [--uac-uiaccess] [--win-private-assemblies]\n",
      "                   [--win-no-prefer-redirects] [--argv-emulation]\n",
      "                   [--osx-bundle-identifier BUNDLE_IDENTIFIER]\n",
      "                   [--target-architecture ARCH] [--codesign-identity IDENTITY]\n",
      "                   [--osx-entitlements-file FILENAME] [--runtime-tmpdir PATH]\n",
      "                   [--bootloader-ignore-signals] [--distpath DIR]\n",
      "                   [--workpath WORKPATH] [-y] [--upx-dir UPX_DIR] [-a]\n",
      "                   [--clean] [--log-level LEVEL]\n",
      "                   scriptname [scriptname ...]\n",
      "pyinstaller: error: the following arguments are required: scriptname\n"
     ]
    }
   ],
   "source": [
    "!pyinstaller --onefile"
   ]
  },
  {
   "cell_type": "markdown",
   "id": "4d56423b",
   "metadata": {},
   "source": [
    "# Automate Excel Report"
   ]
  },
  {
   "cell_type": "code",
   "execution_count": 27,
   "id": "4bc53d26",
   "metadata": {},
   "outputs": [
    {
     "data": {
      "text/html": [
       "<div>\n",
       "<style scoped>\n",
       "    .dataframe tbody tr th:only-of-type {\n",
       "        vertical-align: middle;\n",
       "    }\n",
       "\n",
       "    .dataframe tbody tr th {\n",
       "        vertical-align: top;\n",
       "    }\n",
       "\n",
       "    .dataframe thead th {\n",
       "        text-align: right;\n",
       "    }\n",
       "</style>\n",
       "<table border=\"1\" class=\"dataframe\">\n",
       "  <thead>\n",
       "    <tr style=\"text-align: right;\">\n",
       "      <th></th>\n",
       "      <th>Invoice ID</th>\n",
       "      <th>Branch</th>\n",
       "      <th>City</th>\n",
       "      <th>Customer type</th>\n",
       "      <th>Gender</th>\n",
       "      <th>Product line</th>\n",
       "      <th>Unit price</th>\n",
       "      <th>Quantity</th>\n",
       "      <th>Tax 5%</th>\n",
       "      <th>Total</th>\n",
       "      <th>Date</th>\n",
       "      <th>Time</th>\n",
       "      <th>Payment</th>\n",
       "      <th>cogs</th>\n",
       "      <th>gross margin percentage</th>\n",
       "      <th>gross income</th>\n",
       "      <th>Rating</th>\n",
       "    </tr>\n",
       "  </thead>\n",
       "  <tbody>\n",
       "    <tr>\n",
       "      <th>0</th>\n",
       "      <td>750-67-8428</td>\n",
       "      <td>A</td>\n",
       "      <td>Yangon</td>\n",
       "      <td>Member</td>\n",
       "      <td>Female</td>\n",
       "      <td>Health and beauty</td>\n",
       "      <td>74.69</td>\n",
       "      <td>7</td>\n",
       "      <td>26.1415</td>\n",
       "      <td>548.9715</td>\n",
       "      <td>2019-01-05</td>\n",
       "      <td>13:08:00</td>\n",
       "      <td>Ewallet</td>\n",
       "      <td>522.83</td>\n",
       "      <td>4.761905</td>\n",
       "      <td>26.1415</td>\n",
       "      <td>9.1</td>\n",
       "    </tr>\n",
       "    <tr>\n",
       "      <th>1</th>\n",
       "      <td>226-31-3081</td>\n",
       "      <td>C</td>\n",
       "      <td>Naypyitaw</td>\n",
       "      <td>Normal</td>\n",
       "      <td>Female</td>\n",
       "      <td>Electronic accessories</td>\n",
       "      <td>15.28</td>\n",
       "      <td>5</td>\n",
       "      <td>3.8200</td>\n",
       "      <td>80.2200</td>\n",
       "      <td>2019-03-08</td>\n",
       "      <td>10:29:00</td>\n",
       "      <td>Cash</td>\n",
       "      <td>76.40</td>\n",
       "      <td>4.761905</td>\n",
       "      <td>3.8200</td>\n",
       "      <td>9.6</td>\n",
       "    </tr>\n",
       "    <tr>\n",
       "      <th>2</th>\n",
       "      <td>631-41-3108</td>\n",
       "      <td>A</td>\n",
       "      <td>Yangon</td>\n",
       "      <td>Normal</td>\n",
       "      <td>Male</td>\n",
       "      <td>Home and lifestyle</td>\n",
       "      <td>46.33</td>\n",
       "      <td>7</td>\n",
       "      <td>16.2155</td>\n",
       "      <td>340.5255</td>\n",
       "      <td>2019-03-03</td>\n",
       "      <td>13:23:00</td>\n",
       "      <td>Credit card</td>\n",
       "      <td>324.31</td>\n",
       "      <td>4.761905</td>\n",
       "      <td>16.2155</td>\n",
       "      <td>7.4</td>\n",
       "    </tr>\n",
       "    <tr>\n",
       "      <th>3</th>\n",
       "      <td>123-19-1176</td>\n",
       "      <td>A</td>\n",
       "      <td>Yangon</td>\n",
       "      <td>Member</td>\n",
       "      <td>Male</td>\n",
       "      <td>Health and beauty</td>\n",
       "      <td>58.22</td>\n",
       "      <td>8</td>\n",
       "      <td>23.2880</td>\n",
       "      <td>489.0480</td>\n",
       "      <td>2019-01-27</td>\n",
       "      <td>20:33:00</td>\n",
       "      <td>Ewallet</td>\n",
       "      <td>465.76</td>\n",
       "      <td>4.761905</td>\n",
       "      <td>23.2880</td>\n",
       "      <td>8.4</td>\n",
       "    </tr>\n",
       "    <tr>\n",
       "      <th>4</th>\n",
       "      <td>373-73-7910</td>\n",
       "      <td>A</td>\n",
       "      <td>Yangon</td>\n",
       "      <td>Normal</td>\n",
       "      <td>Male</td>\n",
       "      <td>Sports and travel</td>\n",
       "      <td>86.31</td>\n",
       "      <td>7</td>\n",
       "      <td>30.2085</td>\n",
       "      <td>634.3785</td>\n",
       "      <td>2019-02-08</td>\n",
       "      <td>10:37:00</td>\n",
       "      <td>Ewallet</td>\n",
       "      <td>604.17</td>\n",
       "      <td>4.761905</td>\n",
       "      <td>30.2085</td>\n",
       "      <td>5.3</td>\n",
       "    </tr>\n",
       "  </tbody>\n",
       "</table>\n",
       "</div>"
      ],
      "text/plain": [
       "    Invoice ID Branch       City Customer type  Gender  \\\n",
       "0  750-67-8428      A     Yangon        Member  Female   \n",
       "1  226-31-3081      C  Naypyitaw        Normal  Female   \n",
       "2  631-41-3108      A     Yangon        Normal    Male   \n",
       "3  123-19-1176      A     Yangon        Member    Male   \n",
       "4  373-73-7910      A     Yangon        Normal    Male   \n",
       "\n",
       "             Product line  Unit price  Quantity   Tax 5%     Total       Date  \\\n",
       "0       Health and beauty       74.69         7  26.1415  548.9715 2019-01-05   \n",
       "1  Electronic accessories       15.28         5   3.8200   80.2200 2019-03-08   \n",
       "2      Home and lifestyle       46.33         7  16.2155  340.5255 2019-03-03   \n",
       "3       Health and beauty       58.22         8  23.2880  489.0480 2019-01-27   \n",
       "4       Sports and travel       86.31         7  30.2085  634.3785 2019-02-08   \n",
       "\n",
       "       Time      Payment    cogs  gross margin percentage  gross income  \\\n",
       "0  13:08:00      Ewallet  522.83                 4.761905       26.1415   \n",
       "1  10:29:00         Cash   76.40                 4.761905        3.8200   \n",
       "2  13:23:00  Credit card  324.31                 4.761905       16.2155   \n",
       "3  20:33:00      Ewallet  465.76                 4.761905       23.2880   \n",
       "4  10:37:00      Ewallet  604.17                 4.761905       30.2085   \n",
       "\n",
       "   Rating  \n",
       "0     9.1  \n",
       "1     9.6  \n",
       "2     7.4  \n",
       "3     8.4  \n",
       "4     5.3  "
      ]
     },
     "execution_count": 27,
     "metadata": {},
     "output_type": "execute_result"
    }
   ],
   "source": [
    "#Create a pivot table with python\n",
    "df = pd.read_excel('supermarket_sales.xlsx')\n",
    "df.head()"
   ]
  },
  {
   "cell_type": "code",
   "execution_count": null,
   "id": "d24d6ecb",
   "metadata": {},
   "outputs": [],
   "source": []
  },
  {
   "cell_type": "code",
   "execution_count": 28,
   "id": "af19a13f",
   "metadata": {},
   "outputs": [],
   "source": [
    "df1 = df[['Gender', 'Product line', 'Total']]"
   ]
  },
  {
   "cell_type": "code",
   "execution_count": 29,
   "id": "a18ecb07",
   "metadata": {},
   "outputs": [],
   "source": [
    "pivot_table = df1.pivot_table(index = 'Gender', columns = 'Product line', values = 'Total', aggfunc = 'sum').round(0)"
   ]
  },
  {
   "cell_type": "code",
   "execution_count": 30,
   "id": "610b03a3",
   "metadata": {},
   "outputs": [
    {
     "name": "stdout",
     "output_type": "stream",
     "text": [
      "Product line  Electronic accessories  Fashion accessories  Food and beverages  \\\n",
      "Gender                                                                          \n",
      "Female                       27102.0              30437.0             33171.0   \n",
      "Male                         27236.0              23868.0             22974.0   \n",
      "\n",
      "Product line  Health and beauty  Home and lifestyle  Sports and travel  \n",
      "Gender                                                                  \n",
      "Female                  18561.0             30037.0            28575.0  \n",
      "Male                    30633.0             23825.0            26548.0  \n"
     ]
    }
   ],
   "source": [
    "print(pivot_table)"
   ]
  },
  {
   "cell_type": "code",
   "execution_count": 31,
   "id": "7e26e375",
   "metadata": {},
   "outputs": [],
   "source": [
    "pivot_table.to_excel('pivot_table.xlsx', 'Report', startrow = 4)"
   ]
  },
  {
   "cell_type": "code",
   "execution_count": 19,
   "id": "e39d9655",
   "metadata": {},
   "outputs": [
    {
     "name": "stdout",
     "output_type": "stream",
     "text": [
      "Requirement already satisfied: openpyxl in d:\\programfiles\\anaconda3\\lib\\site-packages (3.0.9)\n",
      "Requirement already satisfied: et-xmlfile in d:\\programfiles\\anaconda3\\lib\\site-packages (from openpyxl) (1.1.0)\n"
     ]
    }
   ],
   "source": [
    "!pip3 install openpyxl"
   ]
  },
  {
   "cell_type": "code",
   "execution_count": 32,
   "id": "80534503",
   "metadata": {},
   "outputs": [],
   "source": [
    "# Preparing script before we convert it to executable\n",
    "application_path = os.path.dirname(sys.executable)"
   ]
  },
  {
   "cell_type": "code",
   "execution_count": 33,
   "id": "4fe5f502",
   "metadata": {},
   "outputs": [
    {
     "name": "stdout",
     "output_type": "stream",
     "text": [
      "Introduce month: February\n"
     ]
    },
    {
     "ename": "FileNotFoundError",
     "evalue": "[Errno 2] No such file or directory: 'D:\\\\ProgramFiles\\\\anaconda3\\\\pivot_table.xlsx'",
     "output_type": "error",
     "traceback": [
      "\u001b[1;31m---------------------------------------------------------------------------\u001b[0m",
      "\u001b[1;31mFileNotFoundError\u001b[0m                         Traceback (most recent call last)",
      "Input \u001b[1;32mIn [33]\u001b[0m, in \u001b[0;36m<cell line: 12>\u001b[1;34m()\u001b[0m\n\u001b[0;32m      9\u001b[0m \u001b[38;5;66;03m# Read workbook and select sheet\u001b[39;00m\n\u001b[0;32m     11\u001b[0m input_path \u001b[38;5;241m=\u001b[39m os\u001b[38;5;241m.\u001b[39mpath\u001b[38;5;241m.\u001b[39mjoin(application_path, \u001b[38;5;124m'\u001b[39m\u001b[38;5;124mpivot_table.xlsx\u001b[39m\u001b[38;5;124m'\u001b[39m)\n\u001b[1;32m---> 12\u001b[0m wb \u001b[38;5;241m=\u001b[39m \u001b[43mload_workbook\u001b[49m\u001b[43m(\u001b[49m\u001b[43minput_path\u001b[49m\u001b[43m)\u001b[49m\n\u001b[0;32m     13\u001b[0m sheet \u001b[38;5;241m=\u001b[39m wb[\u001b[38;5;124m'\u001b[39m\u001b[38;5;124mReport\u001b[39m\u001b[38;5;124m'\u001b[39m]\n",
      "File \u001b[1;32mD:\\ProgramFiles\\anaconda3\\lib\\site-packages\\openpyxl\\reader\\excel.py:315\u001b[0m, in \u001b[0;36mload_workbook\u001b[1;34m(filename, read_only, keep_vba, data_only, keep_links)\u001b[0m\n\u001b[0;32m    288\u001b[0m \u001b[38;5;28;01mdef\u001b[39;00m \u001b[38;5;21mload_workbook\u001b[39m(filename, read_only\u001b[38;5;241m=\u001b[39m\u001b[38;5;28;01mFalse\u001b[39;00m, keep_vba\u001b[38;5;241m=\u001b[39mKEEP_VBA,\n\u001b[0;32m    289\u001b[0m                   data_only\u001b[38;5;241m=\u001b[39m\u001b[38;5;28;01mFalse\u001b[39;00m, keep_links\u001b[38;5;241m=\u001b[39m\u001b[38;5;28;01mTrue\u001b[39;00m):\n\u001b[0;32m    290\u001b[0m     \u001b[38;5;124;03m\"\"\"Open the given filename and return the workbook\u001b[39;00m\n\u001b[0;32m    291\u001b[0m \n\u001b[0;32m    292\u001b[0m \u001b[38;5;124;03m    :param filename: the path to open or a file-like object\u001b[39;00m\n\u001b[1;32m   (...)\u001b[0m\n\u001b[0;32m    313\u001b[0m \n\u001b[0;32m    314\u001b[0m \u001b[38;5;124;03m    \"\"\"\u001b[39;00m\n\u001b[1;32m--> 315\u001b[0m     reader \u001b[38;5;241m=\u001b[39m \u001b[43mExcelReader\u001b[49m\u001b[43m(\u001b[49m\u001b[43mfilename\u001b[49m\u001b[43m,\u001b[49m\u001b[43m \u001b[49m\u001b[43mread_only\u001b[49m\u001b[43m,\u001b[49m\u001b[43m \u001b[49m\u001b[43mkeep_vba\u001b[49m\u001b[43m,\u001b[49m\n\u001b[0;32m    316\u001b[0m \u001b[43m                        \u001b[49m\u001b[43mdata_only\u001b[49m\u001b[43m,\u001b[49m\u001b[43m \u001b[49m\u001b[43mkeep_links\u001b[49m\u001b[43m)\u001b[49m\n\u001b[0;32m    317\u001b[0m     reader\u001b[38;5;241m.\u001b[39mread()\n\u001b[0;32m    318\u001b[0m     \u001b[38;5;28;01mreturn\u001b[39;00m reader\u001b[38;5;241m.\u001b[39mwb\n",
      "File \u001b[1;32mD:\\ProgramFiles\\anaconda3\\lib\\site-packages\\openpyxl\\reader\\excel.py:124\u001b[0m, in \u001b[0;36mExcelReader.__init__\u001b[1;34m(self, fn, read_only, keep_vba, data_only, keep_links)\u001b[0m\n\u001b[0;32m    122\u001b[0m \u001b[38;5;28;01mdef\u001b[39;00m \u001b[38;5;21m__init__\u001b[39m(\u001b[38;5;28mself\u001b[39m,  fn, read_only\u001b[38;5;241m=\u001b[39m\u001b[38;5;28;01mFalse\u001b[39;00m, keep_vba\u001b[38;5;241m=\u001b[39mKEEP_VBA,\n\u001b[0;32m    123\u001b[0m               data_only\u001b[38;5;241m=\u001b[39m\u001b[38;5;28;01mFalse\u001b[39;00m, keep_links\u001b[38;5;241m=\u001b[39m\u001b[38;5;28;01mTrue\u001b[39;00m):\n\u001b[1;32m--> 124\u001b[0m     \u001b[38;5;28mself\u001b[39m\u001b[38;5;241m.\u001b[39marchive \u001b[38;5;241m=\u001b[39m \u001b[43m_validate_archive\u001b[49m\u001b[43m(\u001b[49m\u001b[43mfn\u001b[49m\u001b[43m)\u001b[49m\n\u001b[0;32m    125\u001b[0m     \u001b[38;5;28mself\u001b[39m\u001b[38;5;241m.\u001b[39mvalid_files \u001b[38;5;241m=\u001b[39m \u001b[38;5;28mself\u001b[39m\u001b[38;5;241m.\u001b[39marchive\u001b[38;5;241m.\u001b[39mnamelist()\n\u001b[0;32m    126\u001b[0m     \u001b[38;5;28mself\u001b[39m\u001b[38;5;241m.\u001b[39mread_only \u001b[38;5;241m=\u001b[39m read_only\n",
      "File \u001b[1;32mD:\\ProgramFiles\\anaconda3\\lib\\site-packages\\openpyxl\\reader\\excel.py:96\u001b[0m, in \u001b[0;36m_validate_archive\u001b[1;34m(filename)\u001b[0m\n\u001b[0;32m     89\u001b[0m             msg \u001b[38;5;241m=\u001b[39m (\u001b[38;5;124m'\u001b[39m\u001b[38;5;124mopenpyxl does not support \u001b[39m\u001b[38;5;132;01m%s\u001b[39;00m\u001b[38;5;124m file format, \u001b[39m\u001b[38;5;124m'\u001b[39m\n\u001b[0;32m     90\u001b[0m                    \u001b[38;5;124m'\u001b[39m\u001b[38;5;124mplease check you can open \u001b[39m\u001b[38;5;124m'\u001b[39m\n\u001b[0;32m     91\u001b[0m                    \u001b[38;5;124m'\u001b[39m\u001b[38;5;124mit with Excel first. \u001b[39m\u001b[38;5;124m'\u001b[39m\n\u001b[0;32m     92\u001b[0m                    \u001b[38;5;124m'\u001b[39m\u001b[38;5;124mSupported formats are: \u001b[39m\u001b[38;5;132;01m%s\u001b[39;00m\u001b[38;5;124m'\u001b[39m) \u001b[38;5;241m%\u001b[39m (file_format,\n\u001b[0;32m     93\u001b[0m                                                    \u001b[38;5;124m'\u001b[39m\u001b[38;5;124m,\u001b[39m\u001b[38;5;124m'\u001b[39m\u001b[38;5;241m.\u001b[39mjoin(SUPPORTED_FORMATS))\n\u001b[0;32m     94\u001b[0m         \u001b[38;5;28;01mraise\u001b[39;00m InvalidFileException(msg)\n\u001b[1;32m---> 96\u001b[0m archive \u001b[38;5;241m=\u001b[39m \u001b[43mZipFile\u001b[49m\u001b[43m(\u001b[49m\u001b[43mfilename\u001b[49m\u001b[43m,\u001b[49m\u001b[43m \u001b[49m\u001b[38;5;124;43m'\u001b[39;49m\u001b[38;5;124;43mr\u001b[39;49m\u001b[38;5;124;43m'\u001b[39;49m\u001b[43m)\u001b[49m\n\u001b[0;32m     97\u001b[0m \u001b[38;5;28;01mreturn\u001b[39;00m archive\n",
      "File \u001b[1;32mD:\\ProgramFiles\\anaconda3\\lib\\zipfile.py:1248\u001b[0m, in \u001b[0;36mZipFile.__init__\u001b[1;34m(self, file, mode, compression, allowZip64, compresslevel, strict_timestamps)\u001b[0m\n\u001b[0;32m   1246\u001b[0m \u001b[38;5;28;01mwhile\u001b[39;00m \u001b[38;5;28;01mTrue\u001b[39;00m:\n\u001b[0;32m   1247\u001b[0m     \u001b[38;5;28;01mtry\u001b[39;00m:\n\u001b[1;32m-> 1248\u001b[0m         \u001b[38;5;28mself\u001b[39m\u001b[38;5;241m.\u001b[39mfp \u001b[38;5;241m=\u001b[39m \u001b[43mio\u001b[49m\u001b[38;5;241;43m.\u001b[39;49m\u001b[43mopen\u001b[49m\u001b[43m(\u001b[49m\u001b[43mfile\u001b[49m\u001b[43m,\u001b[49m\u001b[43m \u001b[49m\u001b[43mfilemode\u001b[49m\u001b[43m)\u001b[49m\n\u001b[0;32m   1249\u001b[0m     \u001b[38;5;28;01mexcept\u001b[39;00m \u001b[38;5;167;01mOSError\u001b[39;00m:\n\u001b[0;32m   1250\u001b[0m         \u001b[38;5;28;01mif\u001b[39;00m filemode \u001b[38;5;129;01min\u001b[39;00m modeDict:\n",
      "\u001b[1;31mFileNotFoundError\u001b[0m: [Errno 2] No such file or directory: 'D:\\\\ProgramFiles\\\\anaconda3\\\\pivot_table.xlsx'"
     ]
    }
   ],
   "source": [
    "#Add a bar chart\n",
    "from openpyxl import load_workbook\n",
    "\n",
    "\n",
    "# Putting together #2, #3, and #4 (input: pivot_table.xlsx + month , output: Report with barchart, formulas and format)\n",
    "month = input('Introduce month: ')\n",
    "\n",
    "\n",
    "# Read workbook and select sheet\n",
    "\n",
    "input_path = os.path.join(application_path, 'pivot_table.xlsx')\n",
    "wb = load_workbook(input_path)\n",
    "sheet = wb['Report']"
   ]
  },
  {
   "cell_type": "code",
   "execution_count": 8,
   "id": "8382c898",
   "metadata": {},
   "outputs": [],
   "source": [
    "min_column = wb.active.min_column\n",
    "max_column = wb.active.max_column\n",
    "min_row = wb.active.min_row\n",
    "max_row = wb.active.max_row"
   ]
  },
  {
   "cell_type": "code",
   "execution_count": 9,
   "id": "e411610d",
   "metadata": {},
   "outputs": [
    {
     "name": "stdout",
     "output_type": "stream",
     "text": [
      "1\n",
      "7\n",
      "5\n",
      "7\n"
     ]
    }
   ],
   "source": [
    "print(min_column)\n",
    "print(max_column)\n",
    "print(min_row)\n",
    "print(max_row)"
   ]
  },
  {
   "cell_type": "code",
   "execution_count": 10,
   "id": "f7de697c",
   "metadata": {},
   "outputs": [],
   "source": [
    "from openpyxl.chart import BarChart, Reference\n",
    "barchart = BarChart()\n",
    "data = Reference(sheet, min_col = min_column+1, \n",
    "                 max_col = max_column, min_row= min_row, max_row = max_row)\n",
    "\n",
    "categories = Reference(sheet, min_col = min_column, \n",
    "                 max_col = max_column, min_row= min_row+1, max_row = max_row)\n",
    "\n",
    "barchart.add_data(data, titles_from_data = True)\n",
    "barchart.set_categories(categories)\n",
    "\n",
    "\n",
    "sheet.add_chart(barchart, \"B12\")\n",
    "\n",
    "barchart.title = \"Sales by Product line\"\n",
    "barchart.style = 5\n",
    "wb.save('barchart.xlsx')"
   ]
  },
  {
   "cell_type": "code",
   "execution_count": 14,
   "id": "a5255f3a",
   "metadata": {},
   "outputs": [],
   "source": [
    "#Write Excel Formulas with Python\n",
    "\n",
    "#sheet['B8'] = '=SUM(B6:B7)'\n",
    "#sheet['B8'].style = 'Currency'\n",
    "\n",
    "wb.save('report.xlsx')"
   ]
  },
  {
   "cell_type": "code",
   "execution_count": 15,
   "id": "0cbee8dc",
   "metadata": {},
   "outputs": [],
   "source": [
    "from openpyxl.utils import get_column_letter"
   ]
  },
  {
   "cell_type": "code",
   "execution_count": 19,
   "id": "85cbf3ca",
   "metadata": {},
   "outputs": [],
   "source": [
    "for i in range(min_column+1, max_column+1):\n",
    "    #print(i)\n",
    "    letter = get_column_letter(i)\n",
    "    sheet[f'{letter}{max_row+1}'] = f'=SUM({letter}{min_row+1}:{letter}{max_row})'\n",
    "    sheet[f'{letter}{max_row+1}'].style = 'Currency'\n",
    "wb.save('report.xlsx')"
   ]
  },
  {
   "cell_type": "code",
   "execution_count": 23,
   "id": "237af940",
   "metadata": {},
   "outputs": [],
   "source": [
    "#Format cells\n",
    "\n",
    "from openpyxl.styles import Font\n",
    "\n",
    "sheet['A1'] = 'Sales Report'\n",
    "sheet['A2'] = 'January'\n",
    "sheet['A1'].font = Font('Times New Roman', bold = True, size = 20)\n",
    "sheet['A2'].font = Font('Verdana', bold = True, size = 10)\n",
    "\n",
    "wb.save('report.xlsx')"
   ]
  },
  {
   "cell_type": "markdown",
   "id": "a1616878",
   "metadata": {},
   "source": [
    "#Convert Pivot Table to excel report\n",
    "\n",
    "\n",
    "All the above scripts to automate excel functions are put together and the report is made, which is\n",
    "basically the report.xlsx after the \"format cells\" section.\n"
   ]
  },
  {
   "cell_type": "code",
   "execution_count": null,
   "id": "30365cb0",
   "metadata": {},
   "outputs": [],
   "source": [
    "#Generate Excel Reports with One Click (py to exe)\n",
    "\n",
    "output_path = os.path.join(application_path, f'report_{month}.xlsx')\n",
    "wb.save(output_path)"
   ]
  },
  {
   "cell_type": "markdown",
   "id": "42710d7f",
   "metadata": {},
   "source": [
    "Do the whole code of Automating excel report on MS VS code or Pycharm (to automate the whole process)"
   ]
  },
  {
   "cell_type": "markdown",
   "id": "3ca26c1b",
   "metadata": {},
   "source": [
    "## Automate Whatsapp using Python"
   ]
  },
  {
   "cell_type": "code",
   "execution_count": 35,
   "id": "0800586a",
   "metadata": {},
   "outputs": [
    {
     "name": "stdout",
     "output_type": "stream",
     "text": [
      "Collecting pywhatkit\n",
      "  Downloading pywhatkit-5.4-py3-none-any.whl (15 kB)\n",
      "Collecting wikipedia\n",
      "  Downloading wikipedia-1.4.0.tar.gz (27 kB)\n",
      "Requirement already satisfied: Pillow in d:\\programfiles\\anaconda3\\lib\\site-packages (from pywhatkit) (9.0.1)\n",
      "Collecting pyautogui\n",
      "  Downloading PyAutoGUI-0.9.53.tar.gz (59 kB)\n",
      "Requirement already satisfied: requests in d:\\programfiles\\anaconda3\\lib\\site-packages (from pywhatkit) (2.27.1)\n",
      "Requirement already satisfied: Flask in d:\\programfiles\\anaconda3\\lib\\site-packages (from pywhatkit) (1.1.2)\n",
      "Requirement already satisfied: click>=5.1 in d:\\programfiles\\anaconda3\\lib\\site-packages (from Flask->pywhatkit) (8.0.4)\n",
      "Requirement already satisfied: Jinja2>=2.10.1 in d:\\programfiles\\anaconda3\\lib\\site-packages (from Flask->pywhatkit) (2.11.3)\n",
      "Requirement already satisfied: itsdangerous>=0.24 in d:\\programfiles\\anaconda3\\lib\\site-packages (from Flask->pywhatkit) (2.0.1)\n",
      "Requirement already satisfied: Werkzeug>=0.15 in d:\\programfiles\\anaconda3\\lib\\site-packages (from Flask->pywhatkit) (2.0.3)\n",
      "Requirement already satisfied: colorama in d:\\programfiles\\anaconda3\\lib\\site-packages (from click>=5.1->Flask->pywhatkit) (0.4.4)\n",
      "Requirement already satisfied: MarkupSafe>=0.23 in d:\\programfiles\\anaconda3\\lib\\site-packages (from Jinja2>=2.10.1->Flask->pywhatkit) (2.0.1)\n",
      "Collecting pymsgbox\n",
      "  Downloading PyMsgBox-1.0.9.tar.gz (18 kB)\n",
      "  Installing build dependencies: started\n",
      "  Installing build dependencies: finished with status 'done'\n",
      "  Getting requirements to build wheel: started\n",
      "  Getting requirements to build wheel: finished with status 'done'\n",
      "    Preparing wheel metadata: started\n",
      "    Preparing wheel metadata: finished with status 'done'\n",
      "Collecting PyTweening>=1.0.1\n",
      "  Downloading pytweening-1.0.4.tar.gz (14 kB)\n",
      "Collecting pyscreeze>=0.1.21\n",
      "  Downloading PyScreeze-0.1.28.tar.gz (25 kB)\n",
      "  Installing build dependencies: started\n",
      "  Installing build dependencies: finished with status 'done'\n",
      "  Getting requirements to build wheel: started\n",
      "  Getting requirements to build wheel: finished with status 'done'\n",
      "    Preparing wheel metadata: started\n",
      "    Preparing wheel metadata: finished with status 'done'\n",
      "Collecting pygetwindow>=0.0.5\n",
      "  Downloading PyGetWindow-0.0.9.tar.gz (9.7 kB)\n",
      "Collecting mouseinfo\n",
      "  Downloading MouseInfo-0.1.3.tar.gz (10 kB)\n",
      "Collecting pyrect\n",
      "  Downloading PyRect-0.2.0.tar.gz (17 kB)\n",
      "Collecting pyperclip\n",
      "  Downloading pyperclip-1.8.2.tar.gz (20 kB)\n",
      "Requirement already satisfied: idna<4,>=2.5 in d:\\programfiles\\anaconda3\\lib\\site-packages (from requests->pywhatkit) (3.3)\n",
      "Requirement already satisfied: charset-normalizer~=2.0.0 in d:\\programfiles\\anaconda3\\lib\\site-packages (from requests->pywhatkit) (2.0.4)\n",
      "Requirement already satisfied: urllib3<1.27,>=1.21.1 in d:\\programfiles\\anaconda3\\lib\\site-packages (from requests->pywhatkit) (1.26.9)\n",
      "Requirement already satisfied: certifi>=2017.4.17 in d:\\programfiles\\anaconda3\\lib\\site-packages (from requests->pywhatkit) (2021.10.8)\n",
      "Requirement already satisfied: beautifulsoup4 in d:\\programfiles\\anaconda3\\lib\\site-packages (from wikipedia->pywhatkit) (4.11.1)\n",
      "Requirement already satisfied: soupsieve>1.2 in d:\\programfiles\\anaconda3\\lib\\site-packages (from beautifulsoup4->wikipedia->pywhatkit) (2.3.1)\n",
      "Building wheels for collected packages: pyautogui, pygetwindow, pyscreeze, PyTweening, mouseinfo, pymsgbox, pyperclip, pyrect, wikipedia\n",
      "  Building wheel for pyautogui (setup.py): started\n",
      "  Building wheel for pyautogui (setup.py): finished with status 'done'\n",
      "  Created wheel for pyautogui: filename=PyAutoGUI-0.9.53-py3-none-any.whl size=36614 sha256=e68aa51fa5c8158bbd35589774f64ceb4deb273ad64ea35d74240bc6d4cecea6\n",
      "  Stored in directory: c:\\users\\abhirockzzz\\appdata\\local\\pip\\cache\\wheels\\d8\\97\\e4\\d2edca92a87d3b5fbfb527264750a17b4ba297b9a7cab6e67f\n",
      "  Building wheel for pygetwindow (setup.py): started\n",
      "  Building wheel for pygetwindow (setup.py): finished with status 'done'\n",
      "  Created wheel for pygetwindow: filename=PyGetWindow-0.0.9-py3-none-any.whl size=11081 sha256=94475654bb11c84342ce6092d500a66427e39549b8526eb663c5fb6cf7abc4a7\n",
      "  Stored in directory: c:\\users\\abhirockzzz\\appdata\\local\\pip\\cache\\wheels\\44\\ab\\20\\423c3a444793767e4e41f8377bc902f77bee212e68dcce85a5\n",
      "  Building wheel for pyscreeze (PEP 517): started\n",
      "  Building wheel for pyscreeze (PEP 517): finished with status 'done'\n",
      "  Created wheel for pyscreeze: filename=PyScreeze-0.1.28-py3-none-any.whl size=13009 sha256=3e6aa36b5f717812cb600a105668ed71ab7a68cd2fe9a06469eb8b793ed603ba\n",
      "  Stored in directory: c:\\users\\abhirockzzz\\appdata\\local\\pip\\cache\\wheels\\a2\\5b\\86\\99f1d8fac5d92de0ccb3f0d4ad15e3f4278baf75a9b0f20b93\n",
      "  Building wheel for PyTweening (setup.py): started\n",
      "  Building wheel for PyTweening (setup.py): finished with status 'done'\n",
      "  Created wheel for PyTweening: filename=pytweening-1.0.4-py3-none-any.whl size=5854 sha256=805002e23437ccdf3a5d79f9a7c66a40bd232041b0fa396346b86833247b9c71\n",
      "  Stored in directory: c:\\users\\abhirockzzz\\appdata\\local\\pip\\cache\\wheels\\a4\\5d\\d2\\ba4c8f82163233ffaadcf383c1e34d7d92635d357d13e7b78d\n",
      "  Building wheel for mouseinfo (setup.py): started\n",
      "  Building wheel for mouseinfo (setup.py): finished with status 'done'\n",
      "  Created wheel for mouseinfo: filename=MouseInfo-0.1.3-py3-none-any.whl size=10906 sha256=1caec7e713bd51aba33551a911cc07540f7e1357a5765fe1a6b6e129d2ab94a6\n",
      "  Stored in directory: c:\\users\\abhirockzzz\\appdata\\local\\pip\\cache\\wheels\\61\\73\\b9\\6fb1131ab36e650206e3aa0ad7a68907b41b32ac2d4f75f543\n",
      "  Building wheel for pymsgbox (PEP 517): started\n",
      "  Building wheel for pymsgbox (PEP 517): finished with status 'done'\n",
      "  Created wheel for pymsgbox: filename=PyMsgBox-1.0.9-py3-none-any.whl size=7406 sha256=f5550fb0940ccdddad1ef9f386e2920a1b309335c642f1e85fa569e8e6cb2ed0\n",
      "  Stored in directory: c:\\users\\abhirockzzz\\appdata\\local\\pip\\cache\\wheels\\7f\\13\\8c\\584c519464297d9637f9cd29fd1dcdf55e2a2cab225c76a2db\n",
      "  Building wheel for pyperclip (setup.py): started\n",
      "  Building wheel for pyperclip (setup.py): finished with status 'done'\n",
      "  Created wheel for pyperclip: filename=pyperclip-1.8.2-py3-none-any.whl size=11137 sha256=caa987ef2c456281b2d834145956b5f0adc22c1bc9d7f093d7b60ffc04aacd26\n",
      "  Stored in directory: c:\\users\\abhirockzzz\\appdata\\local\\pip\\cache\\wheels\\0c\\09\\9e\\49e21a6840ef7955b06d47394afef0058f0378c0914e48b8b8\n",
      "  Building wheel for pyrect (setup.py): started\n",
      "  Building wheel for pyrect (setup.py): finished with status 'done'\n",
      "  Created wheel for pyrect: filename=PyRect-0.2.0-py2.py3-none-any.whl size=11196 sha256=10a4573eca42b2246d479373ee7677f18ae6481d6c487a30abe011ec89093e1f\n",
      "  Stored in directory: c:\\users\\abhirockzzz\\appdata\\local\\pip\\cache\\wheels\\25\\80\\fa\\27bb4a1c2e21f64ec71390489d52e57b7cc8afbe79bd595c5e\n",
      "  Building wheel for wikipedia (setup.py): started\n",
      "  Building wheel for wikipedia (setup.py): finished with status 'done'\n",
      "  Created wheel for wikipedia: filename=wikipedia-1.4.0-py3-none-any.whl size=11695 sha256=8304b87314ca2f9deb09cdb1c725163a3103bf290fd5a76a4bca2aa720361052\n",
      "  Stored in directory: c:\\users\\abhirockzzz\\appdata\\local\\pip\\cache\\wheels\\c2\\46\\f4\\caa1bee71096d7b0cdca2f2a2af45cacf35c5760bee8f00948\n",
      "Successfully built pyautogui pygetwindow pyscreeze PyTweening mouseinfo pymsgbox pyperclip pyrect wikipedia\n",
      "Installing collected packages: pyrect, pyperclip, PyTweening, pyscreeze, pymsgbox, pygetwindow, mouseinfo, wikipedia, pyautogui, pywhatkit\n",
      "Successfully installed PyTweening-1.0.4 mouseinfo-0.1.3 pyautogui-0.9.53 pygetwindow-0.0.9 pymsgbox-1.0.9 pyperclip-1.8.2 pyrect-0.2.0 pyscreeze-0.1.28 pywhatkit-5.4 wikipedia-1.4.0\n"
     ]
    },
    {
     "name": "stderr",
     "output_type": "stream",
     "text": [
      "WARNING: Retrying (Retry(total=4, connect=None, read=None, redirect=None, status=None)) after connection broken by 'NewConnectionError('<pip._vendor.urllib3.connection.HTTPSConnection object at 0x000002BFDF067C40>: Failed to establish a new connection: [Errno 11001] getaddrinfo failed')': /simple/pywhatkit/\n"
     ]
    }
   ],
   "source": [
    "!pip3 install pywhatkit\n",
    "import pywhatkit"
   ]
  },
  {
   "cell_type": "code",
   "execution_count": null,
   "id": "3f84537c",
   "metadata": {},
   "outputs": [],
   "source": [
    "# Send message to a contact\n",
    "phone_number = input(\"Enter phone number: \")\n",
    "pywhatkit.sendwhatmsg(phone_number, \"Test\", 13, 19)"
   ]
  },
  {
   "cell_type": "code",
   "execution_count": null,
   "id": "83dacc6b",
   "metadata": {},
   "outputs": [],
   "source": [
    "pywhatkit.sendwhatmsg(phone_number, \"Test\", 13, 19, 15, True, 2)"
   ]
  },
  {
   "cell_type": "code",
   "execution_count": null,
   "id": "f70f1089",
   "metadata": {},
   "outputs": [],
   "source": [
    "# Send message to a group\n",
    "group_id = input(\"Enter group id: \")\n",
    "\n",
    "pywhatkit.sendwhatmsg_to_group(group_id, \"Test Group\", 7, 31)"
   ]
  }
 ],
 "metadata": {
  "kernelspec": {
   "display_name": "Python 3 (ipykernel)",
   "language": "python",
   "name": "python3"
  },
  "language_info": {
   "codemirror_mode": {
    "name": "ipython",
    "version": 3
   },
   "file_extension": ".py",
   "mimetype": "text/x-python",
   "name": "python",
   "nbconvert_exporter": "python",
   "pygments_lexer": "ipython3",
   "version": "3.9.12"
  }
 },
 "nbformat": 4,
 "nbformat_minor": 5
}
